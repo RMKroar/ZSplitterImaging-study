{
 "cells": [
  {
   "cell_type": "code",
   "execution_count": 15,
   "id": "3571af38",
   "metadata": {},
   "outputs": [],
   "source": [
    "import numpy as np\n",
    "import json\n",
    "from scipy.ndimage import zoom"
   ]
  },
  {
   "cell_type": "code",
   "execution_count": 16,
   "id": "a8bf0193",
   "metadata": {},
   "outputs": [],
   "source": [
    "EV = np.load('../output/EV.npy')\n",
    "\n",
    "width, height, depth = EV.shape         # (480, 480, 9)\n",
    "extended_depth = 175"
   ]
  },
  {
   "cell_type": "code",
   "execution_count": 17,
   "id": "4ccc8e96",
   "metadata": {},
   "outputs": [],
   "source": [
    "# normalization\n",
    "EV = EV - np.min(EV)\n",
    "EV = EV / np.max(EV)"
   ]
  },
  {
   "cell_type": "code",
   "execution_count": 18,
   "id": "dafa8770",
   "metadata": {},
   "outputs": [
    {
     "name": "stdout",
     "output_type": "stream",
     "text": [
      "(240, 240, 88)\n"
     ]
    }
   ],
   "source": [
    "zoom_factors = (1 / 2, 1 / 2, extended_depth / depth / 2)\n",
    "extended_EV = zoom(EV, zoom=zoom_factors, order=3)\n",
    "\n",
    "print(extended_EV.shape)"
   ]
  },
  {
   "cell_type": "code",
   "execution_count": 19,
   "id": "65f8db38",
   "metadata": {},
   "outputs": [],
   "source": [
    "np.save('../output/EV_bspline', extended_EV)\n",
    "\n",
    "with open('../output/json/EV_bspline.json', 'w') as json_file:\n",
    "    json.dump(extended_EV.tolist(), json_file)"
   ]
  }
 ],
 "metadata": {
  "kernelspec": {
   "display_name": "Python 3",
   "language": "python",
   "name": "python3"
  },
  "language_info": {
   "codemirror_mode": {
    "name": "ipython",
    "version": 3
   },
   "file_extension": ".py",
   "mimetype": "text/x-python",
   "name": "python",
   "nbconvert_exporter": "python",
   "pygments_lexer": "ipython3",
   "version": "3.13.2"
  }
 },
 "nbformat": 4,
 "nbformat_minor": 5
}
