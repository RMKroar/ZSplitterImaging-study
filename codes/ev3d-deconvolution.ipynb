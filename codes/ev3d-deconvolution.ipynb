{
 "cells": [
  {
   "cell_type": "code",
   "execution_count": 5,
   "metadata": {},
   "outputs": [],
   "source": [
    "import numpy as np\n",
    "import matplotlib.pylab as plt\n",
    "import scipy.io\n",
    "\n",
    "from operations import *"
   ]
  },
  {
   "cell_type": "code",
   "execution_count": 6,
   "metadata": {},
   "outputs": [],
   "source": [
    "# Load data\n",
    "mat_file = scipy.io.loadmat(\"../data/data.mat\")\n",
    "data = mat_file[\"stack\"] \n",
    "\n",
    "# 480, 480, 9\n",
    "sizeX, sizeY, sizeZ = data.shape"
   ]
  },
  {
   "cell_type": "code",
   "execution_count": 7,
   "metadata": {},
   "outputs": [],
   "source": [
    "# Imaging parameters\n",
    "NA = 0.4            # objective numerical aperture\n",
    "dz = 20.56          # delta z (um)\n",
    "dx = 1.083          # lateral pixel size (um)\n",
    "wavelength = 0.51   # um\n",
    "n = 1.0             # refractive index\n",
    "\n",
    "# Optimization parameters\n",
    "TV_reg = 0          # amount of TV regularization\n",
    "xy_pad = 50         # lateral volume extension\n",
    "z_pad = 8           # axial volume extension\n",
    "outer_iter = 20;    # outer iterations of EV-3D algorithm\n",
    "inner_iter = 80     # inner iterations of EV-3D algorithm"
   ]
  },
  {
   "cell_type": "code",
   "execution_count": null,
   "metadata": {},
   "outputs": [
    {
     "name": "stdout",
     "output_type": "stream",
     "text": [
      "psf.shape (580, 580, 25) / otf.shape (580, 580, 25)\n"
     ]
    }
   ],
   "source": [
    "### EV-3D deconvolution ###\n",
    "# deconv shape: 580, 580, 25\n",
    "deconv_sizeX = sizeX + 2 * xy_pad\n",
    "deconv_sizeY = sizeY + 2 * xy_pad\n",
    "deconv_sizeZ = sizeZ + 2 * z_pad\n",
    "\n",
    "# Point spread function (PSF)\n",
    "psf = ComputeGaussianPSF(NA, wavelength, dx, dz, (deconv_sizeX, deconv_sizeY, int(deconv_sizeZ / 2)), n)\n",
    "\n",
    "# Optical transfer function (OTF)\n",
    "otf = GenerateOTF(psf, [deconv_sizeX, deconv_sizeY, deconv_sizeZ])"
   ]
  },
  {
   "cell_type": "code",
   "execution_count": 19,
   "metadata": {},
   "outputs": [
    {
     "name": "stdout",
     "output_type": "stream",
     "text": [
      "[ 6746.  9242. 10087. ...  1687.  1826.  1912.]\n"
     ]
    }
   ],
   "source": [
    "image_ev = np.pad(data, ((xy_pad, xy_pad), (xy_pad, xy_pad), (z_pad, z_pad)), mode='edge')\n",
    "\n",
    "image_mask = np.pad(data, ((xy_pad, xy_pad), (xy_pad, xy_pad), (z_pad, z_pad)), mode='constant', constant_values=0)\n",
    "image_mask = np.where(image_mask > 0)\n",
    "obs = data[data > 0]\n",
    "\n",
    "print(obs)"
   ]
  }
 ],
 "metadata": {
  "kernelspec": {
   "display_name": "Python 3",
   "language": "python",
   "name": "python3"
  },
  "language_info": {
   "codemirror_mode": {
    "name": "ipython",
    "version": 3
   },
   "file_extension": ".py",
   "mimetype": "text/x-python",
   "name": "python",
   "nbconvert_exporter": "python",
   "pygments_lexer": "ipython3",
   "version": "3.13.2"
  }
 },
 "nbformat": 4,
 "nbformat_minor": 2
}
